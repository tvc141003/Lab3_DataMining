{
 "cells": [
  {
   "cell_type": "markdown",
   "id": "3b9ca58e",
   "metadata": {
    "id": "3b9ca58e"
   },
   "source": [
    "# Đồ án 03: Phân lớp và Gom nhóm\n",
    "\n",
    "- Họ tên: Trương Văn Chí\n",
    "- MSSV: 21127021"
   ]
  },
  {
   "cell_type": "markdown",
   "id": "9fcb7960",
   "metadata": {
    "deletable": false,
    "editable": false,
    "id": "9fcb7960",
    "nbgrader": {
     "cell_type": "markdown",
     "checksum": "82dc970622d3c0febfee4cee8df683fb",
     "grade": false,
     "grade_id": "project_content",
     "locked": true,
     "schema_version": 3,
     "solution": false,
     "task": false
    }
   },
   "source": [
    "## Nội dung đồ án\n",
    "\n",
    "Đồ án này hướng đến việc giúp các bạn thực hành và kiểm tra kiến thức về các thuật toán Phân lớp và Gom nhóm đã được học trong môn Khai thác Dữ liệu và Ứng dụng. \n",
    "\n",
    "Nội dung của đồ án này bao gồm:\n",
    "\n",
    "- Phân lớp dữ liệu nhị phân với Cây quyết định sử dụng thuật toán ID3\n",
    "- Gom nhóm dữ liệu với thuật toán k-means clustering\n"
   ]
  },
  {
   "cell_type": "markdown",
   "id": "XHGUv7o9ajw0",
   "metadata": {
    "deletable": false,
    "editable": false,
    "id": "XHGUv7o9ajw0",
    "nbgrader": {
     "cell_type": "markdown",
     "checksum": "3b785e40de1f2e077f34fc63b7945b7e",
     "grade": false,
     "grade_id": "project_instruction",
     "locked": true,
     "schema_version": 3,
     "solution": false,
     "task": false
    }
   },
   "source": [
    "## Hướng dẫn làm bài\n",
    "\n",
    "Các bạn cần hoàn thành đồ án bằng cách điền vào các ô code có ```YOUR CODE HERE``` hoặc các ô text có ```Your answer here``` \n",
    "\n",
    "<font color='red'>**LƯU Ý:**</font>\n",
    "\n",
    "- Bài làm của sinh viên phải do chính bản thân sinh viên tự làm, có thể trao đổi và tham khảo ý tưởng nhưng không được sao chép (một phần hoặc toàn bộ) code hoặc lời giải từ bất cứ người nào khác. Nếu vi phạm sẽ bị <font color='red'>0đ</font> bài tập này.\n",
    "- Các bạn có thể tạo thêm các cell trong quá trình code, tuy nhiên các bạn vui lòng <font color='red'>không xóa các cell code mặc định và các cell test case</font> (vì có thể ảnh hưởng đến kết quả khi chấm bài).\n",
    "- Các test case (nếu có) được đưa ra chỉ nhằm mục đích giúp các bạn test code của mình, việc pass các test case này không đồng nghĩa với việc lời giải của các bạn sẽ đạt điểm tối đa. "
   ]
  },
  {
   "cell_type": "markdown",
   "id": "e0e36d4a",
   "metadata": {
    "deletable": false,
    "editable": false,
    "id": "e0e36d4a",
    "nbgrader": {
     "cell_type": "markdown",
     "checksum": "6423679f1a3889c5b6bbe7cbb9316cc6",
     "grade": false,
     "grade_id": "project_submission",
     "locked": true,
     "schema_version": 3,
     "solution": false,
     "task": false
    }
   },
   "source": [
    "## Hướng dẫn nộp bài\n",
    "\n",
    "Khi chấm bài, đầu tiên mình sẽ chọn `Kernel` - `Restart Kernel & Run All Cells`, để restart và chạy tất cả các cell trong notebook của các bạn; do đó, trước khi nộp bài, các bạn nên chạy thử `Kernel` - `Restart Kernel & Run All Cells` để đảm bảo mọi chuyện diễn ra đúng như mong đợi.\n",
    "\n",
    "Sau đó, các bạn tạo thư mục nộp bài theo cấu trúc sau:\n",
    "\n",
    "- Thư mục `MSSV` (vd, nếu bạn có MSSV là 191235 thì bạn đặt tên thư mục là `191235`)\n",
    "    - ```data```: thư mục chứa các dữ liệu được cung cấp (và dữ liệu do bạn tìm thêm)\n",
    "    - ```[Lab 03 - Data Mining] Classification & Clustering.ipynb```: file bài làm của các bạn\n",
    "\n",
    "Cuối cùng, các bạn nén thư mục `MSSV` này lại và nộp ở link trên moodle **(Đuôi của file nén phải là .zip)**\n",
    "\n",
    "<font color=red>Các bạn lưu ý tuân thủ chính xác qui định nộp bài ở trên.</font>\n",
    "\n",
    "\n",
    "- Mọi thắc mắc trong quá trình làm bài, các bạn có thể tham khảo và điền vào [file Q&A](https://docs.google.com/spreadsheets/d/1BlUqNSl4Yn7LY1tNUM4gSRK3CbD8ZPhp37GVWXt-wmE/edit?usp=sharing), hoặc gửi mail đến  trợ giảng *Nguyễn Duy Khánh* (duykhanhnguyen360@gmail.com)\n",
    "\n",
    "\n",
    "<center><font color='green'>CHÚC CÁC BẠN HOÀN THÀNH THẬT TỐT ĐỒ ÁN!</font></center>"
   ]
  },
  {
   "cell_type": "markdown",
   "id": "m2LENWZYHkli",
   "metadata": {
    "id": "m2LENWZYHkli"
   },
   "source": [
    "## Phần I: Phân lớp (7đ) + 1đ bonus"
   ]
  },
  {
   "cell_type": "markdown",
   "id": "An0DlQbBd1v_",
   "metadata": {
    "id": "An0DlQbBd1v_"
   },
   "source": [
    "### Yêu cầu"
   ]
  },
  {
   "cell_type": "markdown",
   "id": "Pgqzo20KivVh",
   "metadata": {
    "id": "Pgqzo20KivVh"
   },
   "source": [
    "Trong phần này, các bạn sẽ cần viết chương trình Python để cài đặt Cây quyết định sử dụng thuật toán ID3.\n",
    "\n",
    "Dữ liệu: \n",
    "\n",
    "- Với đồ án này, các bạn chỉ cần xây dựng mô hình cây quyết định với các thuộc tính phân loại (categorical), không cần xử lý thuộc tính số (numerical) (các bạn có thể chuyển các thuộc tính numerical trong input về dạng categorical trước khi đưa vào mô hình)\n",
    "- Mỗi điểm dữ liệu chỉ thuộc 1 trong 2 nhãn (label) cho trước (binary classification)\n",
    "- Tập dữ liệu sử dụng: [tennis.txt](https://drive.google.com/file/d/1jv67IlMIxGxwGGaP47AZ_1t3mxIn82Y7/view?usp=sharing) và [titanic2.txt](https://drive.google.com/file/d/1IwOxcPz-Hq1_JOOfGylJxy1TYhDvfEsg/view?usp=sharing)\n",
    "\n",
    "\n",
    "Các bạn cần cài đặt hàm load dữ liệu và mô hình Cây quyết định với các phương thức sau:\n",
    "\n",
    "- ```fit```: xây dựng cây từ dữ liệu huấn luyện theo thuật toán ID3\n",
    "- ```predict```: dự đoán trên các điểm dữ liệu mới sử dụng cấu trúc cây đã xây dựng được từ dữ liệu huấn luyện\n",
    "- ```visualize```: vẽ cây quyết định đã xây dựng được từ tập dữ liệu huấn luyện. Các bạn có thể visualize cây quyết định đã xây dựng theo cách các bạn muốn, miễn sao có thể thấy được cấu trúc của cây (có thể tự implement hoặc sử dụng các package có sẵn như ```tree```, ```graphviz```, ...).  Ví dụ các bạn có thể visualize cây quyết định xây dựng được từ tập [tennis.txt](https://drive.google.com/file/d/1jv67IlMIxGxwGGaP47AZ_1t3mxIn82Y7/view?usp=sharing) như sau:\n",
    "\n",
    "```\n",
    "outlook = sunny\n",
    "|  humidity = high: no\n",
    "|  humidity = normal: yes\n",
    "outlook = overcast: yes\n",
    "outlook = rainy\n",
    "|  windy = TRUE: no\n",
    "|  windy = FALSE: yes\n",
    "```\n",
    "\n",
    "**Note**:\n",
    "\n",
    "- Với tập [tennis.txt](https://drive.google.com/file/d/1jv67IlMIxGxwGGaP47AZ_1t3mxIn82Y7/view?usp=sharing), sử dụng toàn bộ các điểm dữ liệu để làm tập train, không cần chia ra tập train và test. Với tập [titanic2.txt](https://drive.google.com/file/d/1IwOxcPz-Hq1_JOOfGylJxy1TYhDvfEsg/view?usp=sharing), các bạn sẽ cần chia ra tập train/test với tỉ lệ 80/20 (sử dụng ```train_test_split``` của ```sklearn``` với ```random_state=42```)\n",
    "- Hàm load dữ liệu và mô hình cây quyết định chỉ cài đặt 1 lần và phải sử dụng được cho các tập dữ liệu khác nhau\n",
    "- Với mỗi tập dữ liệu, các bạn cần ```load_data``` từ file input, ```fit``` mô hình với dữ liệu train, sử dụng mô hình huấn luyện để ```predict``` trên ```X_train```, ```X_test``` (nếu có) và tính độ chính xác (sử dụng hàm ```accuracy_score``` của ```sklearn```), cuối cùng là ```visualize``` mô hình đã huấn luyện\n",
    "- Sẽ có tối đa 1đ cộng nếu các bạn tự tìm và thực hiện tất cả các yêu cầu trên với tập dữ liệu mới"
   ]
  },
  {
   "cell_type": "markdown",
   "id": "ilCuHgbkd6w1",
   "metadata": {
    "id": "ilCuHgbkd6w1"
   },
   "source": [
    "### Cài đặt (6.5đ)"
   ]
  },
  {
   "cell_type": "code",
   "execution_count": 1,
   "id": "RD-kfiMzJA2g",
   "metadata": {
    "id": "RD-kfiMzJA2g"
   },
   "outputs": [],
   "source": [
    "import pandas as pd\n",
    "import numpy as np\n",
    "import sklearn\n",
    "from sklearn.metrics import accuracy_score\n",
    "from sklearn.model_selection import train_test_split\n",
    "import csv"
   ]
  },
  {
   "cell_type": "code",
   "execution_count": 2,
   "metadata": {},
   "outputs": [],
   "source": [
    "def load_data(file_path, split=True):\n",
    "    \"\"\"\n",
    "    Load data from file path and return numpy data.\n",
    "\n",
    "    Parameters\n",
    "    ----------\n",
    "    file_path : str\n",
    "        The path of input data file (tab separated).\n",
    "    split : bool\n",
    "        Whether or not to return test set.\n",
    "\n",
    "    Returns\n",
    "    -------\n",
    "    (X_train, y_train), (None, None): training numpy array if split = False, else\n",
    "    (X_train, y_train), (X_test, y_test): training and testing numpy array if split = True\n",
    "    \"\"\"\n",
    "    with open(file_path, 'r') as file:\n",
    "        lines = file.read().splitlines()\n",
    "        headers = lines[0].split('\\t')\n",
    "        data = {key: [] for key in headers}\n",
    "        for line in lines[1:]:\n",
    "            row = line.split('\\t')\n",
    "            for header, value in zip(headers, row):\n",
    "                data[header].append(value)\n",
    "\n",
    "    X = [data[key] for key in headers[:-1]]\n",
    "    y = data[headers[-1]]\n",
    "\n",
    "    if split:\n",
    "        X_train, X_test, y_train, y_test = train_test_split(list(map(list, zip(*X))), y, train_size=0.8, test_size=0.2, random_state=42)\n",
    "        X_train.insert(0, headers[:-1])\n",
    "        X_test.insert(0, headers[:-1])\n",
    "        \n",
    "    else:\n",
    "        X_train, y_train = list(map(list, zip(*X))), y\n",
    "        X_test, y_test = None, None\n",
    "        X_train.insert(0, headers[:-1])\n",
    "\n",
    "    X_train = np.array(X_train)\n",
    "    X_test = np.array(X_test)\n",
    "    y_train = np.array(y_train)\n",
    "    y_test = np.array(y_test)\n",
    "\n",
    "    return X_train, y_train, X_test, y_test"
   ]
  },
  {
   "cell_type": "code",
   "metadata": {},
   "outputs": [],
   "source": [
    "class DecisionTree:\n",
    "    def __init__(self):\n",
    "        self.tree = None\n",
    "        self.feature_names = None\n",
    "    \n",
    "    def entropy(self, y):\n",
    "        _, counts = np.unique(y, return_counts=True)\n",
    "        probabilities = counts / len(y)\n",
    "        entropy = -np.sum(probabilities * np.log2(probabilities + 1e-10))\n",
    "        return entropy\n",
    "    \n",
    "    def information_gain(self, X, y):\n",
    "        total_entropy = self.entropy(y)\n",
    "        vals, counts = np.unique(X, return_counts=True)\n",
    "        weighted_entropy = np.sum([(counts[i] / np.sum(counts)) * self.entropy(y[X == vals[i]]) for i in range(len(vals))])\n",
    "        information_gain = total_entropy - weighted_entropy\n",
    "        return information_gain\n",
    "\n",
    "    def build_tree(self, X, y, feature_indices):\n",
    "        if len(np.unique(y)) <= 1:\n",
    "            return np.unique(y)[0]\n",
    "        elif len(y) == 0:\n",
    "            return np.unique(y)[np.argmax(np.unique(y, return_counts=True)[1])]\n",
    "        elif len(feature_indices) == 0:\n",
    "            return np.unique(y)[np.argmax(np.unique(y, return_counts=True)[1])]\n",
    "        \n",
    "        item_values = [self.information_gain(X[:, index], y) for index in feature_indices]\n",
    "        best_feature_index = feature_indices[np.argmax(item_values)]\n",
    "        best_feature = self.feature_names[best_feature_index]\n",
    "        tree = {best_feature: {}}\n",
    "        feature_indices = [i for i in feature_indices if i != best_feature_index]\n",
    "        \n",
    "        for value in np.unique(X[:, best_feature_index]):\n",
    "            value = value\n",
    "            sub_data = X[X[:, best_feature_index] == value]\n",
    "            subtree = self.build_tree(sub_data, y[X[:, best_feature_index] == value], feature_indices)\n",
    "            tree[best_feature][value] = subtree\n",
    "        return tree\n",
    "\n",
    "    def fit(self, X_train, y_train):\n",
    "        self.feature_names = X_train[0].tolist()\n",
    "        feature_indices = list(range(len(self.feature_names)))\n",
    "        \n",
    "        self.tree = self.build_tree(X_train[1:], y_train, feature_indices)\n",
    "    \n",
    "    def make_predict(self, sample, tree):\n",
    "        for key in list(sample.keys()):\n",
    "            if key in list(tree.keys()):\n",
    "                try:\n",
    "                    result = tree[key][sample[key]]\n",
    "                except:\n",
    "                    return 1\n",
    "                if isinstance(result, dict):\n",
    "                    return self.make_predict(sample, result)\n",
    "                else:\n",
    "                    return result\n",
    "            \n",
    "    def predict(self, X_test):\n",
    "        predictions = []\n",
    "        for sample in X_test[1:]:\n",
    "            sample = {name: value for name, value in zip(self.feature_names, sample)}\n",
    "            result = self.make_predict(sample, self.tree)\n",
    "            predictions.append(result)\n",
    "        return predictions\n",
    "    \n",
    "    def print_tree(self, tree, indent=\"\", parent=None):\n",
    "        for key, value in tree.items():\n",
    "            if parent is None:\n",
    "                if not isinstance(value, dict):\n",
    "                    print(f\"{key} = {value}\") \n",
    "            else:\n",
    "                print(f\"{indent}{parent} = {key}: {value}\") if not isinstance(value, dict) else print(f\"{indent}{parent} = {key}\")\n",
    "            \n",
    "            if isinstance(value, dict):\n",
    "                new_indent = indent + \"|\\t\"\n",
    "                if (parent == None):\n",
    "                    self.print_tree(value, indent, key)\n",
    "                else: self.print_tree(value, new_indent, None)\n",
    "      \n",
    "    def visualize(self):\n",
    "        self.print_tree(self.tree)"
   ]
  },
  {
   "cell_type": "code",
   "execution_count": 4,
   "metadata": {},
   "outputs": [],
   "source": [
    "def accuracy(y_pred, y_test):\n",
    "    return accuracy_score(y_pred, y_test)"
   ]
  },
  {
   "cell_type": "code",
   "metadata": {},
   "outputs": [
    {
     "name": "stdout",
     "output_type": "stream",
     "text": [
      "outlook = overcast: yes\n",
      "outlook = rain\n",
      "|\twind = strong: no\n",
      "|\twind = weak: yes\n",
      "outlook = sunny\n",
      "|\thumidity = high: no\n",
      "|\thumidity = normal: yes\n"
     ]
    },
    {
     "data": {
      "text/plain": [
       "{'outlook': {'overcast': 'yes',\n",
       "  'rain': {'wind': {'strong': 'no', 'weak': 'yes'}},\n",
       "  'sunny': {'humidity': {'high': 'no', 'normal': 'yes'}}}}"
      ]
     },
     "execution_count": 21,
     "metadata": {},
     "output_type": "execute_result"
    }
   ],
   "source": [
    "# 0.5đ \n",
    "\n",
    "# flow to run your code (do this for all your datasets)\n",
    "# YOUR CODE HERE\n",
    "tree = DecisionTree()\n",
    "\n",
    "# dataset 1 (create one cell for each dataset with the following content)\n",
    "\n",
    "X_train, y_train, X_test, y_test = load_data(\"data/tennis.txt\", split=False)\n",
    "tree.fit(X_train, y_train)\n",
    "y_hat_train = tree.predict(X_train) \n",
    "acc_train = accuracy(y_hat_train, y_train)\n",
    "# y_hat_test = tree.predict(X_test) \n",
    "# acc_test = accuracy(y_hat_test, y_test)\n",
    "tree.visualize()\n",
    "tree.tree"
   ]
  },
  {
   "cell_type": "code",
   "metadata": {},
   "outputs": [
    {
     "name": "stdout",
     "output_type": "stream",
     "text": [
      "sex = female\n",
      "|\tpclass = 1st\n",
      "|\t|\tage = adult: yes\n",
      "|\tpclass = 2nd\n",
      "|\t|\tage = adult: yes\n",
      "|\t|\tage = child: yes\n",
      "|\tpclass = 3rd\n",
      "|\t|\tage = adult: no\n",
      "|\t|\tage = child: no\n",
      "|\tpclass = crew\n",
      "|\t|\tage = adult: yes\n",
      "sex = male\n",
      "|\tpclass = 1st\n",
      "|\t|\tage = adult: no\n",
      "|\t|\tage = child: yes\n",
      "|\tpclass = 2nd\n",
      "|\t|\tage = adult: no\n",
      "|\t|\tage = child: yes\n",
      "|\tpclass = 3rd\n",
      "|\t|\tage = adult: no\n",
      "|\t|\tage = child: no\n",
      "|\tpclass = crew\n",
      "|\t|\tage = adult: no\n"
     ]
    }
   ],
   "source": [
    "# 0.5đ \n",
    "\n",
    "# flow to run your code (do this for all your datasets)\n",
    "# YOUR CODE HERE\n",
    "tree = DecisionTree()\n",
    "\n",
    "X_train, y_train, X_test, y_test = load_data(\"data/titanic2.txt\")\n",
    "\n",
    "tree.fit(X_train, y_train)\n",
    "y_hat_train = tree.predict(X_train) \n",
    "acc_train = accuracy(y_hat_train, y_train)\n",
    "y_hat_test = tree.predict(X_test) \n",
    "acc_test = accuracy(y_hat_test, y_test)\n",
    "tree.visualize()"
   ]
  },
  {
   "cell_type": "code",
   "execution_count": 7,
   "metadata": {},
   "outputs": [
    {
     "name": "stdout",
     "output_type": "stream",
     "text": [
      "Taste = Sour: No\n",
      "Taste = Spicy\n",
      "|\tColor = Purple\n",
      "|\t|\tSkin = Spiny: No\n",
      "|\tColor = Red: Yes\n",
      "|\tColor = Yellow: Yes\n",
      "Taste = Sweet: No\n"
     ]
    }
   ],
   "source": [
    "tree = DecisionTree()\n",
    "\n",
    "X_train, y_train, X_test, y_test = load_data(\"data/new_data.txt\")\n",
    "X_train\n",
    "tree.fit(X_train, y_train)\n",
    "y_hat_train = tree.predict(X_train) \n",
    "acc_train = accuracy(y_hat_train, y_train)\n",
    "y_hat_test = tree.predict(X_test) \n",
    "acc_test = accuracy(y_hat_test, y_test)\n",
    "tree.visualize()"
   ]
  },
  {
   "cell_type": "markdown",
   "id": "ggqgBjBGd9vy",
   "metadata": {
    "id": "ggqgBjBGd9vy"
   },
   "source": [
    "### Trả lời câu hỏi (0.5đ)"
   ]
  },
  {
   "cell_type": "markdown",
   "id": "mpFvRmPoLX78",
   "metadata": {
    "id": "mpFvRmPoLX78"
   },
   "source": [
    "**Câu hỏi 1**: Bạn có nhận xét gì về accuracy giữa tập train và tập test (trên tập ```titanic2``` và/hoặc trên tập dữ liệu bạn chọn)? Giải thích và nêu hướng giải quyết. (0.5đ)\n",
    "\n",
    "---\n",
    "\n",
    "1. Nhận xét:\n",
    "\n",
    "Accuracy của tập train là 0.7926136363636364, cao hơn accuracy của tập test là 0.780045351473923. Điều này cho thấy mô hình đang bị overfitting.\n",
    "Overfitting là một vấn đề thường gặp trong học máy, xảy ra khi mô hình học quá sát với tập train và không thể generalise tốt sang tập test.\n",
    "Giải thích:\n",
    "\n",
    "Có một số nguyên nhân dẫn đến overfitting, bao gồm:\n",
    "Mô hình quá phức tạp. Mô hình càng phức tạp thì càng dễ bị overfitting.\n",
    "Tập train quá nhỏ. Tập train quá nhỏ sẽ không đủ để mô hình học được các đặc trưng quan trọng của dữ liệu.\n",
    "Có hiện tượng nhiễu trong dữ liệu. Hiện tượng nhiễu trong dữ liệu sẽ khiến mô hình khó generalise tốt sang tập test.\n",
    "Hướng giải quyết:\n",
    "\n",
    "Để giảm thiểu overfitting, có thể thực hiện các biện pháp sau:\n",
    "Giảm thiểu độ phức tạp của mô hình. Có thể làm điều này bằng cách giảm số lượng tham số của mô hình, sử dụng các thuật toán regularisation, hoặc sử dụng các kiến trúc mô hình đơn giản hơn.\n",
    "Tăng kích thước của tập train. Tập train càng lớn thì càng giúp mô hình học được các đặc trưng quan trọng của dữ liệu.\n",
    "Giảm thiểu nhiễu trong dữ liệu. Có thể làm điều này bằng cách sử dụng các kỹ thuật như data cleaning, data preprocessing, hoặc data augmentation.\n"
   ]
  },
  {
   "cell_type": "markdown",
   "id": "QOI51WD9HtW1",
   "metadata": {
    "id": "QOI51WD9HtW1"
   },
   "source": [
    "## Phần II: Phân cụm (5đ)"
   ]
  },
  {
   "cell_type": "markdown",
   "id": "FDLMYDnXeGhE",
   "metadata": {
    "id": "FDLMYDnXeGhE"
   },
   "source": [
    "### Yêu cầu"
   ]
  },
  {
   "cell_type": "markdown",
   "id": "QL-1y-F2TUz7",
   "metadata": {
    "id": "QL-1y-F2TUz7"
   },
   "source": [
    "Trong phần này, các bạn sẽ cài đặt thuật toán phân cụm k-means trên dữ liệu tổng hợp (synthetic data)."
   ]
  },
  {
   "cell_type": "code",
   "id": "Cqp_wbBHOFun",
   "metadata": {
    "id": "Cqp_wbBHOFun"
   },
   "outputs": [],
   "source": [
    "import numpy as np\n",
    "import matplotlib.pyplot as plt\n",
    "from scipy.spatial.distance import cdist"
   ]
  },
  {
   "cell_type": "markdown",
   "id": "tvULptcxUP4F",
   "metadata": {
    "id": "tvULptcxUP4F"
   },
   "source": [
    "Dữ liệu được sử dụng bao gồm 1500 điểm, thuộc 3 cụm với center lần lượt là (2, 2), (7,3), (3, 6). Các điểm dữ liệu trong từng cụm được sinh ngẫu nhiên theo phân phối chuẩn 2 biến (bivariate normal distribution). "
   ]
  },
  {
   "cell_type": "code",
   "id": "d6W4g6D_PoEc",
   "metadata": {
    "id": "d6W4g6D_PoEc"
   },
   "outputs": [],
   "source": [
    "# generate synthetic data \n",
    "def generate_data(means, cov, N, K):\n",
    "    np.random.seed(42)\n",
    "    X0 = np.random.multivariate_normal(means[0], cov, N)\n",
    "    X1 = np.random.multivariate_normal(means[1], cov, N)\n",
    "    X2 = np.random.multivariate_normal(means[2], cov, N)\n",
    "\n",
    "    X = np.concatenate((X0, X1, X2), axis = 0)\n",
    "    original_label = np.asarray([0]*N + [1]*N + [2]*N).T\n",
    "\n",
    "    return X, original_label\n",
    "\n",
    "# visualize data \n",
    "def kmeans_display(X, label):\n",
    "    K = np.amax(label) + 1\n",
    "    X0 = X[label == 0, :]\n",
    "    X1 = X[label == 1, :]\n",
    "    X2 = X[label == 2, :]\n",
    "    \n",
    "    plt.plot(X0[:, 0], X0[:, 1], 'b^', markersize = 4, alpha = .8)\n",
    "    plt.plot(X1[:, 0], X1[:, 1], 'go', markersize = 4, alpha = .8)\n",
    "    plt.plot(X2[:, 0], X2[:, 1], 'rs', markersize = 4, alpha = .8)\n",
    "\n",
    "    plt.axis('equal')\n",
    "    plt.plot()\n",
    "    plt.show()"
   ]
  },
  {
   "cell_type": "code",
   "id": "90Og5sbUU8L8",
   "metadata": {
    "colab": {
     "base_uri": "https://localhost:8080/",
     "height": 265
    },
    "executionInfo": {
     "elapsed": 8,
     "status": "ok",
     "timestamp": 1639878986473,
     "user": {
      "displayName": "Khánh Nguyễn",
      "photoUrl": "https://lh3.googleusercontent.com/a-/AOh14GhW5QOJudmqsBqdJ5x2Hfp3zqPDQQRP2FGMhp4kpg=s64",
      "userId": "03950222018643951363"
     },
     "user_tz": -420
    },
    "id": "90Og5sbUU8L8",
    "outputId": "57902a78-d5ee-41d4-b85e-66e6fa483997"
   },
   "outputs": [
    {
     "data": {
      "image/png": "[encoded data removed]",
      "text/plain": [
       "<Figure size 640x480 with 1 Axes>"
      ]
     },
     "metadata": {},
     "output_type": "display_data"
    }
   ],
   "source": [
    "N, K = 500, 3\n",
    "means = [[2, 2], [7, 3], [3, 6]]\n",
    "cov = [[1, 0], [0, 1]]\n",
    "\n",
    "X, original_label = generate_data(means, cov, N, K)\n",
    "kmeans_display(X, original_label)"
   ]
  },
  {
   "cell_type": "markdown",
   "id": "sZGtZzxYV6wB",
   "metadata": {
    "id": "sZGtZzxYV6wB"
   },
   "source": [
    "Các bạn cần điền vào các phần ```YOUR CODE HERE``` trong các ô dưới đây để hoàn thành thuật toán k-means clustering."
   ]
  },
  {
   "cell_type": "markdown",
   "id": "MOzgEIgWeJ-A",
   "metadata": {
    "id": "MOzgEIgWeJ-A"
   },
   "source": [
    "### Cài đặt (4đ)"
   ]
  },
  {
   "cell_type": "code",
   "id": "7CXzAAx2Pt4N",
   "metadata": {
    "deletable": false,
    "executionInfo": {
     "elapsed": 729,
     "status": "ok",
     "timestamp": 1639880484812,
     "user": {
      "displayName": "Khánh Nguyễn",
      "photoUrl": "https://lh3.googleusercontent.com/a-/AOh14GhW5QOJudmqsBqdJ5x2Hfp3zqPDQQRP2FGMhp4kpg=s64",
      "userId": "03950222018643951363"
     },
     "user_tz": -420
    },
    "id": "7CXzAAx2Pt4N",
    "nbgrader": {
     "cell_type": "code",
     "checksum": "88b654673e4ab9acaae48bc99ca22ec7",
     "grade": false,
     "grade_id": "cell-02d26fb701e008ca",
     "locked": false,
     "schema_version": 3,
     "solution": true,
     "task": false
    }
   },
   "outputs": [],
   "source": [
    "# 0.5đ\n",
    "def kmeans_init_centers(X, k):\n",
    "    np.random.seed(42)\n",
    "\n",
    "    # randomly pick k rows of X as initial centers using np.random.choice function\n",
    "    # YOUR CODE HERE\n",
    "    point = np.random.choice(X.shape[0], size = k, replace=False)\n",
    "    centers = np.array(X[point])\n",
    "    return centers"
   ]
  },
  {
   "cell_type": "code",
   "id": "AzcdXSEHWh5L",
   "metadata": {
    "id": "AzcdXSEHWh5L"
   },
   "outputs": [],
   "source": [
    "centers = kmeans_init_centers(X, K)\n",
    "assert centers.shape == (K, 2)"
   ]
  },
  {
   "cell_type": "code",
   "id": "IHoz22FUVspR",
   "metadata": {
    "deletable": false,
    "executionInfo": {
     "elapsed": 465,
     "status": "ok",
     "timestamp": 1639880500373,
     "user": {
      "displayName": "Khánh Nguyễn",
      "photoUrl": "https://lh3.googleusercontent.com/a-/AOh14GhW5QOJudmqsBqdJ5x2Hfp3zqPDQQRP2FGMhp4kpg=s64",
      "userId": "03950222018643951363"
     },
     "user_tz": -420
    },
    "id": "IHoz22FUVspR",
    "nbgrader": {
     "cell_type": "code",
     "checksum": "94e9843cd7081e48d59f6ccb52e1dfcc",
     "grade": false,
     "grade_id": "cell-f6e050b570717c21",
     "locked": false,
     "schema_version": 3,
     "solution": true,
     "task": false
    }
   },
   "outputs": [],
   "source": [
    "# 1đ \n",
    "def kmeans_assign_labels(X, centers):\n",
    "    # calculate pairwise distances btw data and centers using cdist\n",
    "    # return index of the closest center using np.argmin\n",
    "\n",
    "    # YOUR CODE HERE\n",
    "    distance  = cdist(X, centers)\n",
    "    assignLabels = np.argmin(distance, axis=1)\n",
    "    return assignLabels"
   ]
  },
  {
   "cell_type": "code",
   "id": "a-PculxAXc-M",
   "metadata": {
    "id": "a-PculxAXc-M"
   },
   "outputs": [],
   "source": [
    "assigned_labels = kmeans_assign_labels(X, centers)\n",
    "assert assigned_labels.shape == (N*3, )"
   ]
  },
  {
   "cell_type": "code",
   "id": "22t4pQ8wVtWH",
   "metadata": {
    "deletable": false,
    "executionInfo": {
     "elapsed": 1,
     "status": "ok",
     "timestamp": 1639880509882,
     "user": {
      "displayName": "Khánh Nguyễn",
      "photoUrl": "https://lh3.googleusercontent.com/a-/AOh14GhW5QOJudmqsBqdJ5x2Hfp3zqPDQQRP2FGMhp4kpg=s64",
      "userId": "03950222018643951363"
     },
     "user_tz": -420
    },
    "id": "22t4pQ8wVtWH",
    "nbgrader": {
     "cell_type": "code",
     "checksum": "822db51073ce59cf1c3c1a01e487f90d",
     "grade": false,
     "grade_id": "cell-29a67030b178fde0",
     "locked": false,
     "schema_version": 3,
     "solution": true,
     "task": false
    }
   },
   "outputs": [],
   "source": [
    "# 1đ \n",
    "def kmeans_update_centers(X, labels, K):\n",
    "    centers = np.zeros((K, X.shape[1]))\n",
    "    for k in range(K):\n",
    "        # collect all points assigned to the k-th cluster \n",
    "        # take average\n",
    "\n",
    "        # YOUR CODE HERE\n",
    "        points = X[labels == k, :]\n",
    "        center = np.average(points, axis=0)\n",
    "        centers[k] = center\n",
    "        \n",
    "    return centers"
   ]
  },
  {
   "cell_type": "code",
   "id": "1seFAj_WVyRe",
   "metadata": {
    "deletable": false,
    "executionInfo": {
     "elapsed": 499,
     "status": "ok",
     "timestamp": 1639880521270,
     "user": {
      "displayName": "Khánh Nguyễn",
      "photoUrl": "https://lh3.googleusercontent.com/a-/AOh14GhW5QOJudmqsBqdJ5x2Hfp3zqPDQQRP2FGMhp4kpg=s64",
      "userId": "03950222018643951363"
     },
     "user_tz": -420
    },
    "id": "1seFAj_WVyRe",
    "nbgrader": {
     "cell_type": "code",
     "checksum": "81a03e536965535d3ee4d88b7c9c2f90",
     "grade": false,
     "grade_id": "cell-f5acd1c334d56c44",
     "locked": false,
     "schema_version": 3,
     "solution": true,
     "task": false
    }
   },
   "outputs": [],
   "source": [
    "# 0.5đ \n",
    "def has_converged(centers, new_centers):\n",
    "    # return True if two sets of centers are the same\n",
    "\n",
    "    # YOUR CODE HERE\n",
    "    if (np.array_equal(centers, new_centers)):\n",
    "        return True\n",
    "    return False"
   ]
  },
  {
   "cell_type": "code",
   "id": "NlmJn2FQPwSZ",
   "metadata": {
    "deletable": false,
    "id": "NlmJn2FQPwSZ",
    "nbgrader": {
     "cell_type": "code",
     "checksum": "2e9c1924da30efe0c821b2f1a800834d",
     "grade": false,
     "grade_id": "cell-c210d26f0bf63b15",
     "locked": false,
     "schema_version": 3,
     "solution": true,
     "task": false
    }
   },
   "outputs": [],
   "source": [
    "# 1đ \n",
    "def kmeans(X, K):\n",
    "    # save the center coordinates of each iteration\n",
    "    centers = [kmeans_init_centers(X, K)]  \n",
    "    # save the labels of each iteration\n",
    "    labels = []\n",
    "    it = 0 \n",
    "    while True:\n",
    "        # at each iteration:\n",
    "        # 1. assign label for each points and append to labels\n",
    "        # 2. update the centers\n",
    "        # 3. check the convergence condition\n",
    "        #    and append NEW center coordinates to centers\n",
    "        # 4. update iteration \n",
    "\n",
    "        # YOUR CODE HERE\n",
    "        center = np.array(centers[-1])\n",
    "        label = kmeans_assign_labels(X, center)\n",
    "        labels.append(label)\n",
    "        new_centers = kmeans_update_centers(X, label, K)\n",
    "        if (has_converged(center, new_centers) == True):\n",
    "            centers.append(new_centers)\n",
    "            break\n",
    "        else:\n",
    "            centers.append(new_centers)\n",
    "            it += 1\n",
    "\n",
    "    return (centers, labels, it)"
   ]
  },
  {
   "cell_type": "code",
   "id": "d2qfbn_QP72d",
   "metadata": {
    "id": "d2qfbn_QP72d"
   },
   "outputs": [
    {
     "name": "stdout",
     "output_type": "stream",
     "text": [
      "Centers found by k-means algorithm:\n",
      "[[1.99418176 1.99827524]\n",
      " [2.99429961 6.00518912]\n",
      " [7.08218735 3.07474629]]\n",
      "============================================================\n"
     ]
    },
    {
     "data": {
      "image/png": "[encoded data removed]",
      "text/plain": [
       "<Figure size 640x480 with 1 Axes>"
      ]
     },
     "metadata": {},
     "output_type": "display_data"
    }
   ],
   "source": [
    "(centers, labels, it) = kmeans(X, K)\n",
    "print('Centers found by k-means algorithm:')\n",
    "print(centers[-1])\n",
    "print('='*60)\n",
    "\n",
    "kmeans_display(X, labels[-1])"
   ]
  },
  {
   "cell_type": "markdown",
   "id": "qQMU2Nj6eMNT",
   "metadata": {
    "id": "qQMU2Nj6eMNT"
   },
   "source": [
    "### Trả lời câu hỏi (1đ)"
   ]
  },
  {
   "cell_type": "markdown",
   "id": "0oYbcHN6dAAX",
   "metadata": {
    "id": "0oYbcHN6dAAX"
   },
   "source": [
    "**Câu hỏi 2**: Bạn có nhận xét gì về kết quả của thuật toán k-means clustering với dữ liệu trên? (0.25đ)\n",
    "\n",
    "---\n",
    "Kết quả của thuật toán k-means clustering với dữ liệu trên có độ chính xác khá cao khi các điểm trung tâm sai số không nhiều so với các điểm ban đầu được thiết lập để sinh dữ liệu."
   ]
  },
  {
   "cell_type": "markdown",
   "id": "OwSHYivrejqr",
   "metadata": {
    "id": "OwSHYivrejqr"
   },
   "source": [
    "**Câu hỏi 3**: Hãy nêu điểm yếu của thuật toán k-means clustering (thuật toán có dễ bị ảnh hưởng bởi các center khởi tạo? phù hợp và không phù hợp với loại dữ liệu nào?). Bạn hãy nêu phương pháp/thuật toán thay thế có thể giải quyết các điểm yếu của thuật toán k-means clustering. (0.75đ)\n",
    "\n",
    "---\n",
    "\n",
    "Thuật toán k-means dễ bị ảnh hưởng bởi nhiễu và phụ thuộc rất nhiều vào các center khởi tạo, nếu các center khởi tạo không tốt thì kết quả của thuật toán k-means đưa ra cũng sẽ không tốt. Các loại dữ liệu phù hợp với thuật toán k-means như numeric và không phù hợp với loại dữ liệu category. Phân bổ dữ liệu nên là phân bố chuẩn sẽ hoạt động tốt nhất trên thuật toán k-means. Thuật toán có thể giải quyết vấn đề ảnh hưởng bởi nhiễu của thuật toán k-means là thuật toán k-medoids khi lấy các điểm dữ liệu làm trung tâm chứ không phải tính trung bình các tọa độ dữ liệu như thuật toán k-means."
   ]
  }
 ],
 "metadata": {
  "colab": {
   "collapsed_sections": [],
   "name": "[Lab 03 - Data Mining] Classification & Clustering.ipynb",
   "provenance": [
    {
     "file_id": "1J1x4qE_dUH8LgPg7gLEh8H23DYDzNCki",
     "timestamp": 1639879447273
    }
   ]
  },
  "kernelspec": {
   "display_name": "Python 3 (ipykernel)",
   "language": "python",
   "name": "python3"
  },
  "language_info": {
   "codemirror_mode": {
    "name": "ipython",
    "version": 3
   },
   "file_extension": ".py",
   "mimetype": "text/x-python",
   "name": "python",
   "nbconvert_exporter": "python",
   "pygments_lexer": "ipython3",
   "version": "3.11.1"
  }
 },
 "nbformat": 4,
 "nbformat_minor": 5
}

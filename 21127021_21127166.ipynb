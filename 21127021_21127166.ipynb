{
 "cells": [
  {
   "cell_type": "markdown",
   "id": "3b9ca58e",
   "metadata": {
    "id": "3b9ca58e"
   },
   "source": [
    "# Đồ án 03: Phân lớp và Gom nhóm\n",
    "\n",
    "- Họ tên:\n",
    "- MSSV:"
   ]
  },
  {
   "cell_type": "markdown",
   "id": "9fcb7960",
   "metadata": {
    "deletable": false,
    "editable": false,
    "id": "9fcb7960",
    "nbgrader": {
     "cell_type": "markdown",
     "checksum": "82dc970622d3c0febfee4cee8df683fb",
     "grade": false,
     "grade_id": "project_content",
     "locked": true,
     "schema_version": 3,
     "solution": false,
     "task": false
    }
   },
   "source": [
    "## Nội dung đồ án\n",
    "\n",
    "Đồ án này hướng đến việc giúp các bạn thực hành và kiểm tra kiến thức về các thuật toán Phân lớp và Gom nhóm đã được học trong môn Khai thác Dữ liệu và Ứng dụng. \n",
    "\n",
    "Nội dung của đồ án này bao gồm:\n",
    "\n",
    "- Phân lớp dữ liệu nhị phân với Cây quyết định sử dụng thuật toán ID3\n",
    "- Gom nhóm dữ liệu với thuật toán k-means clustering\n"
   ]
  },
  {
   "cell_type": "markdown",
   "id": "XHGUv7o9ajw0",
   "metadata": {
    "deletable": false,
    "editable": false,
    "id": "XHGUv7o9ajw0",
    "nbgrader": {
     "cell_type": "markdown",
     "checksum": "3b785e40de1f2e077f34fc63b7945b7e",
     "grade": false,
     "grade_id": "project_instruction",
     "locked": true,
     "schema_version": 3,
     "solution": false,
     "task": false
    }
   },
   "source": [
    "## Hướng dẫn làm bài\n",
    "\n",
    "Các bạn cần hoàn thành đồ án bằng cách điền vào các ô code có ```YOUR CODE HERE``` hoặc các ô text có ```Your answer here``` \n",
    "\n",
    "<font color='red'>**LƯU Ý:**</font>\n",
    "\n",
    "- Bài làm của sinh viên phải do chính bản thân sinh viên tự làm, có thể trao đổi và tham khảo ý tưởng nhưng không được sao chép (một phần hoặc toàn bộ) code hoặc lời giải từ bất cứ người nào khác. Nếu vi phạm sẽ bị <font color='red'>0đ</font> bài tập này.\n",
    "- Các bạn có thể tạo thêm các cell trong quá trình code, tuy nhiên các bạn vui lòng <font color='red'>không xóa các cell code mặc định và các cell test case</font> (vì có thể ảnh hưởng đến kết quả khi chấm bài).\n",
    "- Các test case (nếu có) được đưa ra chỉ nhằm mục đích giúp các bạn test code của mình, việc pass các test case này không đồng nghĩa với việc lời giải của các bạn sẽ đạt điểm tối đa. "
   ]
  },
  {
   "cell_type": "markdown",
   "id": "e0e36d4a",
   "metadata": {
    "deletable": false,
    "editable": false,
    "id": "e0e36d4a",
    "nbgrader": {
     "cell_type": "markdown",
     "checksum": "6423679f1a3889c5b6bbe7cbb9316cc6",
     "grade": false,
     "grade_id": "project_submission",
     "locked": true,
     "schema_version": 3,
     "solution": false,
     "task": false
    }
   },
   "source": [
    "## Hướng dẫn nộp bài\n",
    "\n",
    "Khi chấm bài, đầu tiên mình sẽ chọn `Kernel` - `Restart Kernel & Run All Cells`, để restart và chạy tất cả các cell trong notebook của các bạn; do đó, trước khi nộp bài, các bạn nên chạy thử `Kernel` - `Restart Kernel & Run All Cells` để đảm bảo mọi chuyện diễn ra đúng như mong đợi.\n",
    "\n",
    "Sau đó, các bạn tạo thư mục nộp bài theo cấu trúc sau:\n",
    "\n",
    "- Thư mục `MSSV` (vd, nếu bạn có MSSV là 191235 thì bạn đặt tên thư mục là `191235`)\n",
    "    - ```data```: thư mục chứa các dữ liệu được cung cấp (và dữ liệu do bạn tìm thêm)\n",
    "    - ```[Lab 03 - Data Mining] Classification & Clustering.ipynb```: file bài làm của các bạn\n",
    "\n",
    "Cuối cùng, các bạn nén thư mục `MSSV` này lại và nộp ở link trên moodle **(Đuôi của file nén phải là .zip)**\n",
    "\n",
    "<font color=red>Các bạn lưu ý tuân thủ chính xác qui định nộp bài ở trên.</font>\n",
    "\n",
    "\n",
    "- Mọi thắc mắc trong quá trình làm bài, các bạn có thể tham khảo và điền vào [file Q&A](https://docs.google.com/spreadsheets/d/1BlUqNSl4Yn7LY1tNUM4gSRK3CbD8ZPhp37GVWXt-wmE/edit?usp=sharing), hoặc gửi mail đến  trợ giảng *Nguyễn Duy Khánh* (duykhanhnguyen360@gmail.com)\n",
    "\n",
    "\n",
    "<center><font color='green'>CHÚC CÁC BẠN HOÀN THÀNH THẬT TỐT ĐỒ ÁN!</font></center>"
   ]
  },
  {
   "cell_type": "markdown",
   "id": "m2LENWZYHkli",
   "metadata": {
    "id": "m2LENWZYHkli"
   },
   "source": [
    "## Phần I: Phân lớp (7đ) + 1đ bonus"
   ]
  },
  {
   "cell_type": "markdown",
   "id": "An0DlQbBd1v_",
   "metadata": {
    "id": "An0DlQbBd1v_"
   },
   "source": [
    "### Yêu cầu"
   ]
  },
  {
   "cell_type": "markdown",
   "id": "Pgqzo20KivVh",
   "metadata": {
    "id": "Pgqzo20KivVh"
   },
   "source": [
    "Trong phần này, các bạn sẽ cần viết chương trình Python để cài đặt Cây quyết định sử dụng thuật toán ID3.\n",
    "\n",
    "Dữ liệu: \n",
    "\n",
    "- Với đồ án này, các bạn chỉ cần xây dựng mô hình cây quyết định với các thuộc tính phân loại (categorical), không cần xử lý thuộc tính số (numerical) (các bạn có thể chuyển các thuộc tính numerical trong input về dạng categorical trước khi đưa vào mô hình)\n",
    "- Mỗi điểm dữ liệu chỉ thuộc 1 trong 2 nhãn (label) cho trước (binary classification)\n",
    "- Tập dữ liệu sử dụng: [tennis.txt](https://drive.google.com/file/d/1jv67IlMIxGxwGGaP47AZ_1t3mxIn82Y7/view?usp=sharing) và [titanic2.txt](https://drive.google.com/file/d/1IwOxcPz-Hq1_JOOfGylJxy1TYhDvfEsg/view?usp=sharing)\n",
    "\n",
    "\n",
    "Các bạn cần cài đặt hàm load dữ liệu và mô hình Cây quyết định với các phương thức sau:\n",
    "\n",
    "- ```fit```: xây dựng cây từ dữ liệu huấn luyện theo thuật toán ID3\n",
    "- ```predict```: dự đoán trên các điểm dữ liệu mới sử dụng cấu trúc cây đã xây dựng được từ dữ liệu huấn luyện\n",
    "- ```visualize```: vẽ cây quyết định đã xây dựng được từ tập dữ liệu huấn luyện. Các bạn có thể visualize cây quyết định đã xây dựng theo cách các bạn muốn, miễn sao có thể thấy được cấu trúc của cây (có thể tự implement hoặc sử dụng các package có sẵn như ```tree```, ```graphviz```, ...).  Ví dụ các bạn có thể visualize cây quyết định xây dựng được từ tập [tennis.txt](https://drive.google.com/file/d/1jv67IlMIxGxwGGaP47AZ_1t3mxIn82Y7/view?usp=sharing) như sau:\n",
    "\n",
    "```\n",
    "outlook = sunny\n",
    "|  humidity = high: no\n",
    "|  humidity = normal: yes\n",
    "outlook = overcast: yes\n",
    "outlook = rainy\n",
    "|  windy = TRUE: no\n",
    "|  windy = FALSE: yes\n",
    "```\n",
    "\n",
    "**Note**:\n",
    "\n",
    "- Với tập [tennis.txt](https://drive.google.com/file/d/1jv67IlMIxGxwGGaP47AZ_1t3mxIn82Y7/view?usp=sharing), sử dụng toàn bộ các điểm dữ liệu để làm tập train, không cần chia ra tập train và test. Với tập [titanic2.txt](https://drive.google.com/file/d/1IwOxcPz-Hq1_JOOfGylJxy1TYhDvfEsg/view?usp=sharing), các bạn sẽ cần chia ra tập train/test với tỉ lệ 80/20 (sử dụng ```train_test_split``` của ```sklearn``` với ```random_state=42```)\n",
    "- Hàm load dữ liệu và mô hình cây quyết định chỉ cài đặt 1 lần và phải sử dụng được cho các tập dữ liệu khác nhau\n",
    "- Với mỗi tập dữ liệu, các bạn cần ```load_data``` từ file input, ```fit``` mô hình với dữ liệu train, sử dụng mô hình huấn luyện để ```predict``` trên ```X_train```, ```X_test``` (nếu có) và tính độ chính xác (sử dụng hàm ```accuracy_score``` của ```sklearn```), cuối cùng là ```visualize``` mô hình đã huấn luyện\n",
    "- Sẽ có tối đa 1đ cộng nếu các bạn tự tìm và thực hiện tất cả các yêu cầu trên với tập dữ liệu mới"
   ]
  },
  {
   "cell_type": "markdown",
   "id": "ilCuHgbkd6w1",
   "metadata": {
    "id": "ilCuHgbkd6w1"
   },
   "source": [
    "### Cài đặt (6.5đ)"
   ]
  },
  {
   "cell_type": "code",
   "execution_count": null,
   "id": "RD-kfiMzJA2g",
   "metadata": {
    "id": "RD-kfiMzJA2g"
   },
   "outputs": [],
   "source": [
    "import pandas as pd\n",
    "import numpy as np\n",
    "import sklearn\n",
    "from sklearn.metrics import accuracy_score"
   ]
  },
  {
   "cell_type": "code",
   "execution_count": null,
   "id": "RCUFoiMvAP3X",
   "metadata": {
    "deletable": false,
    "executionInfo": {
     "elapsed": 518,
     "status": "ok",
     "timestamp": 1639881846113,
     "user": {
      "displayName": "Khánh Nguyễn",
      "photoUrl": "https://lh3.googleusercontent.com/a-/AOh14GhW5QOJudmqsBqdJ5x2Hfp3zqPDQQRP2FGMhp4kpg=s64",
      "userId": "03950222018643951363"
     },
     "user_tz": -420
    },
    "id": "RCUFoiMvAP3X",
    "nbgrader": {
     "cell_type": "code",
     "checksum": "fcf3d778354bd11b9680231c3cfcf0de",
     "grade": false,
     "grade_id": "cell-f737deab76c4a037",
     "locked": false,
     "schema_version": 3,
     "solution": true,
     "task": false
    }
   },
   "outputs": [],
   "source": [
    "# 1đ\n",
    "\n",
    "# Data loading and categorization (if necessary)\n",
    " \n",
    "def load_data(file_path, split=True):\n",
    "    \"\"\"\n",
    "    Load data from file path and return numpy data.\n",
    "\n",
    "    Parameters\n",
    "    ----------\n",
    "    file_path : str\n",
    "        The path of input data file (tab separated).\n",
    "    split : bool\n",
    "        Whether or not to return test set.\n",
    "\n",
    "    Returns\n",
    "    -------\n",
    "    (X_train, y_train), (None, None): training numpy array if split = False, else\n",
    "    (X_train, y_train), (X_test, y_test): training and testing numpy array if split = True\n",
    "    \"\"\"    \n",
    "    # YOUR CODE HERE\n",
    "    raise NotImplementedError()"
   ]
  },
  {
   "cell_type": "code",
   "execution_count": null,
   "id": "a_uKLOc5jmjp",
   "metadata": {
    "deletable": false,
    "executionInfo": {
     "elapsed": 495,
     "status": "ok",
     "timestamp": 1639881870624,
     "user": {
      "displayName": "Khánh Nguyễn",
      "photoUrl": "https://lh3.googleusercontent.com/a-/AOh14GhW5QOJudmqsBqdJ5x2Hfp3zqPDQQRP2FGMhp4kpg=s64",
      "userId": "03950222018643951363"
     },
     "user_tz": -420
    },
    "id": "a_uKLOc5jmjp",
    "nbgrader": {
     "cell_type": "code",
     "checksum": "a080f471787eae8322aa1a2cecca4536",
     "grade": false,
     "grade_id": "cell-b00859438bb62792",
     "locked": false,
     "schema_version": 3,
     "solution": true,
     "task": false
    }
   },
   "outputs": [],
   "source": [
    "# 5đ\n",
    "\n",
    "# Decision Tree class\n",
    "# You should implement the ID3 algorithm here\n",
    "# You can add other utility methods to make your code easy to read :) \n",
    "\n",
    "class DecisionTree:\n",
    "    def __init__(self):\n",
    "        # YOUR CODE HERE\n",
    "        raise NotImplementedError()\n",
    "\n",
    "    def fit(self, X_train, y_train):\n",
    "        # 4đ \n",
    "        # YOUR CODE HERE\n",
    "        raise NotImplementedError()\n",
    "\n",
    "    def predict(self, X_test):\n",
    "        # 0.5đ \n",
    "        # YOUR CODE HERE\n",
    "        raise NotImplementedError()\n",
    "    \n",
    "    def visualize():\n",
    "        # 0.5đ \n",
    "        # YOUR CODE HERE\n",
    "        raise NotImplementedError()"
   ]
  },
  {
   "cell_type": "code",
   "execution_count": null,
   "id": "RKwazqgPAg2W",
   "metadata": {
    "executionInfo": {
     "elapsed": 768,
     "status": "ok",
     "timestamp": 1639881962764,
     "user": {
      "displayName": "Khánh Nguyễn",
      "photoUrl": "https://lh3.googleusercontent.com/a-/AOh14GhW5QOJudmqsBqdJ5x2Hfp3zqPDQQRP2FGMhp4kpg=s64",
      "userId": "03950222018643951363"
     },
     "user_tz": -420
    },
    "id": "RKwazqgPAg2W"
   },
   "outputs": [],
   "source": [
    "# 0.5đ \n",
    "\n",
    "# flow to run your code (do this for all your datasets)\n",
    "# YOUR CODE HERE\n",
    "# tree = DecisionTree()\n",
    "\n",
    "# dataset 1 (create one cell for each dataset with the following content)\n",
    "\n",
    "# X_train, y_train, X_test, y_test = load_data(\"data/tennis.txt\")\n",
    "# tree.fit(X_train, y_train)\n",
    "# y_hat_train = tree.predict(X_train) \n",
    "# acc_train = accuracy(y_hat_train, y_train)\n",
    "# y_hat_test = tree.predict(X_test) \n",
    "# acc_test = accuracy(y_hat_test, y_test)\n",
    "# tree.visualize()"
   ]
  },
  {
   "cell_type": "markdown",
   "id": "ggqgBjBGd9vy",
   "metadata": {
    "id": "ggqgBjBGd9vy"
   },
   "source": [
    "### Trả lời câu hỏi (0.5đ)"
   ]
  },
  {
   "cell_type": "markdown",
   "id": "mpFvRmPoLX78",
   "metadata": {
    "id": "mpFvRmPoLX78"
   },
   "source": [
    "**Câu hỏi 1**: Bạn có nhận xét gì về accuracy giữa tập train và tập test (trên tập ```titanic2``` và/hoặc trên tập dữ liệu bạn chọn)? Giải thích và nêu hướng giải quyết. (0.5đ)\n",
    "\n",
    "---\n",
    "\n",
    "*Your answer here*\n"
   ]
  },
  {
   "cell_type": "markdown",
   "id": "QOI51WD9HtW1",
   "metadata": {
    "id": "QOI51WD9HtW1"
   },
   "source": [
    "## Phần II: Phân cụm (5đ)"
   ]
  },
  {
   "cell_type": "markdown",
   "id": "FDLMYDnXeGhE",
   "metadata": {
    "id": "FDLMYDnXeGhE"
   },
   "source": [
    "### Yêu cầu"
   ]
  },
  {
   "cell_type": "markdown",
   "id": "QL-1y-F2TUz7",
   "metadata": {
    "id": "QL-1y-F2TUz7"
   },
   "source": [
    "Trong phần này, các bạn sẽ cài đặt thuật toán phân cụm k-means trên dữ liệu tổng hợp (synthetic data)."
   ]
  },
  {
   "cell_type": "code",
   "execution_count": null,
   "id": "Cqp_wbBHOFun",
   "metadata": {
    "id": "Cqp_wbBHOFun"
   },
   "outputs": [],
   "source": [
    "import numpy as np\n",
    "import matplotlib.pyplot as plt\n",
    "from scipy.spatial.distance import cdist"
   ]
  },
  {
   "cell_type": "markdown",
   "id": "tvULptcxUP4F",
   "metadata": {
    "id": "tvULptcxUP4F"
   },
   "source": [
    "Dữ liệu được sử dụng bao gồm 1500 điểm, thuộc 3 cụm với center lần lượt là (2, 2), (7,3), (3, 6). Các điểm dữ liệu trong từng cụm được sinh ngẫu nhiên theo phân phối chuẩn 2 biến (bivariate normal distribution). "
   ]
  },
  {
   "cell_type": "code",
   "execution_count": null,
   "id": "d6W4g6D_PoEc",
   "metadata": {
    "id": "d6W4g6D_PoEc"
   },
   "outputs": [],
   "source": [
    "# generate synthetic data \n",
    "def generate_data(means, cov, N, K):\n",
    "    np.random.seed(42)\n",
    "    X0 = np.random.multivariate_normal(means[0], cov, N)\n",
    "    X1 = np.random.multivariate_normal(means[1], cov, N)\n",
    "    X2 = np.random.multivariate_normal(means[2], cov, N)\n",
    "\n",
    "    X = np.concatenate((X0, X1, X2), axis = 0)\n",
    "    original_label = np.asarray([0]*N + [1]*N + [2]*N).T\n",
    "\n",
    "    return X, original_label\n",
    "\n",
    "# visualize data \n",
    "def kmeans_display(X, label):\n",
    "    K = np.amax(label) + 1\n",
    "    X0 = X[label == 0, :]\n",
    "    X1 = X[label == 1, :]\n",
    "    X2 = X[label == 2, :]\n",
    "    \n",
    "    plt.plot(X0[:, 0], X0[:, 1], 'b^', markersize = 4, alpha = .8)\n",
    "    plt.plot(X1[:, 0], X1[:, 1], 'go', markersize = 4, alpha = .8)\n",
    "    plt.plot(X2[:, 0], X2[:, 1], 'rs', markersize = 4, alpha = .8)\n",
    "\n",
    "    plt.axis('equal')\n",
    "    plt.plot()\n",
    "    plt.show()"
   ]
  },
  {
   "cell_type": "code",
   "execution_count": null,
   "id": "90Og5sbUU8L8",
   "metadata": {
    "colab": {
     "base_uri": "https://localhost:8080/",
     "height": 265
    },
    "executionInfo": {
     "elapsed": 8,
     "status": "ok",
     "timestamp": 1639878986473,
     "user": {
      "displayName": "Khánh Nguyễn",
      "photoUrl": "https://lh3.googleusercontent.com/a-/AOh14GhW5QOJudmqsBqdJ5x2Hfp3zqPDQQRP2FGMhp4kpg=s64",
      "userId": "03950222018643951363"
     },
     "user_tz": -420
    },
    "id": "90Og5sbUU8L8",
    "outputId": "57902a78-d5ee-41d4-b85e-66e6fa483997"
   },
   "outputs": [],
   "source": [
    "N, K = 500, 3\n",
    "means = [[2, 2], [7, 3], [3, 6]]\n",
    "cov = [[1, 0], [0, 1]]\n",
    "\n",
    "X, original_label = generate_data(means, cov, N, K)\n",
    "kmeans_display(X, original_label)"
   ]
  },
  {
   "cell_type": "markdown",
   "id": "sZGtZzxYV6wB",
   "metadata": {
    "id": "sZGtZzxYV6wB"
   },
   "source": [
    "Các bạn cần điền vào các phần ```YOUR CODE HERE``` trong các ô dưới đây để hoàn thành thuật toán k-means clustering."
   ]
  },
  {
   "cell_type": "markdown",
   "id": "MOzgEIgWeJ-A",
   "metadata": {
    "id": "MOzgEIgWeJ-A"
   },
   "source": [
    "### Cài đặt (4đ)"
   ]
  },
  {
   "cell_type": "code",
   "execution_count": null,
   "id": "7CXzAAx2Pt4N",
   "metadata": {
    "deletable": false,
    "executionInfo": {
     "elapsed": 729,
     "status": "ok",
     "timestamp": 1639880484812,
     "user": {
      "displayName": "Khánh Nguyễn",
      "photoUrl": "https://lh3.googleusercontent.com/a-/AOh14GhW5QOJudmqsBqdJ5x2Hfp3zqPDQQRP2FGMhp4kpg=s64",
      "userId": "03950222018643951363"
     },
     "user_tz": -420
    },
    "id": "7CXzAAx2Pt4N",
    "nbgrader": {
     "cell_type": "code",
     "checksum": "88b654673e4ab9acaae48bc99ca22ec7",
     "grade": false,
     "grade_id": "cell-02d26fb701e008ca",
     "locked": false,
     "schema_version": 3,
     "solution": true,
     "task": false
    }
   },
   "outputs": [],
   "source": [
    "# 0.5đ\n",
    "def kmeans_init_centers(X, k):\n",
    "    np.random.seed(42)\n",
    "\n",
    "    # randomly pick k rows of X as initial centers using np.random.choice function\n",
    "    \n",
    "    # YOUR CODE HERE\n",
    "    raise NotImplementedError()"
   ]
  },
  {
   "cell_type": "code",
   "execution_count": null,
   "id": "AzcdXSEHWh5L",
   "metadata": {
    "id": "AzcdXSEHWh5L"
   },
   "outputs": [],
   "source": [
    "centers = kmeans_init_centers(X, K)\n",
    "assert centers.shape == (K, 2)"
   ]
  },
  {
   "cell_type": "code",
   "execution_count": null,
   "id": "IHoz22FUVspR",
   "metadata": {
    "deletable": false,
    "executionInfo": {
     "elapsed": 465,
     "status": "ok",
     "timestamp": 1639880500373,
     "user": {
      "displayName": "Khánh Nguyễn",
      "photoUrl": "https://lh3.googleusercontent.com/a-/AOh14GhW5QOJudmqsBqdJ5x2Hfp3zqPDQQRP2FGMhp4kpg=s64",
      "userId": "03950222018643951363"
     },
     "user_tz": -420
    },
    "id": "IHoz22FUVspR",
    "nbgrader": {
     "cell_type": "code",
     "checksum": "94e9843cd7081e48d59f6ccb52e1dfcc",
     "grade": false,
     "grade_id": "cell-f6e050b570717c21",
     "locked": false,
     "schema_version": 3,
     "solution": true,
     "task": false
    }
   },
   "outputs": [],
   "source": [
    "# 1đ \n",
    "def kmeans_assign_labels(X, centers):\n",
    "    # calculate pairwise distances btw data and centers using cdist\n",
    "    # return index of the closest center using np.argmin\n",
    "\n",
    "    # YOUR CODE HERE\n",
    "    raise NotImplementedError()"
   ]
  },
  {
   "cell_type": "code",
   "execution_count": null,
   "id": "a-PculxAXc-M",
   "metadata": {
    "id": "a-PculxAXc-M"
   },
   "outputs": [],
   "source": [
    "assigned_labels = kmeans_assign_labels(X, centers)\n",
    "assert assigned_labels.shape == (N*3, )"
   ]
  },
  {
   "cell_type": "code",
   "execution_count": null,
   "id": "22t4pQ8wVtWH",
   "metadata": {
    "deletable": false,
    "executionInfo": {
     "elapsed": 1,
     "status": "ok",
     "timestamp": 1639880509882,
     "user": {
      "displayName": "Khánh Nguyễn",
      "photoUrl": "https://lh3.googleusercontent.com/a-/AOh14GhW5QOJudmqsBqdJ5x2Hfp3zqPDQQRP2FGMhp4kpg=s64",
      "userId": "03950222018643951363"
     },
     "user_tz": -420
    },
    "id": "22t4pQ8wVtWH",
    "nbgrader": {
     "cell_type": "code",
     "checksum": "822db51073ce59cf1c3c1a01e487f90d",
     "grade": false,
     "grade_id": "cell-29a67030b178fde0",
     "locked": false,
     "schema_version": 3,
     "solution": true,
     "task": false
    }
   },
   "outputs": [],
   "source": [
    "# 1đ \n",
    "def kmeans_update_centers(X, labels, K):\n",
    "    centers = np.zeros((K, X.shape[1]))\n",
    "    for k in range(K):\n",
    "        # collect all points assigned to the k-th cluster \n",
    "        # take average\n",
    "\n",
    "        # YOUR CODE HERE\n",
    "        raise NotImplementedError()\n",
    "        \n",
    "    return centers"
   ]
  },
  {
   "cell_type": "code",
   "execution_count": null,
   "id": "1seFAj_WVyRe",
   "metadata": {
    "deletable": false,
    "executionInfo": {
     "elapsed": 499,
     "status": "ok",
     "timestamp": 1639880521270,
     "user": {
      "displayName": "Khánh Nguyễn",
      "photoUrl": "https://lh3.googleusercontent.com/a-/AOh14GhW5QOJudmqsBqdJ5x2Hfp3zqPDQQRP2FGMhp4kpg=s64",
      "userId": "03950222018643951363"
     },
     "user_tz": -420
    },
    "id": "1seFAj_WVyRe",
    "nbgrader": {
     "cell_type": "code",
     "checksum": "81a03e536965535d3ee4d88b7c9c2f90",
     "grade": false,
     "grade_id": "cell-f5acd1c334d56c44",
     "locked": false,
     "schema_version": 3,
     "solution": true,
     "task": false
    }
   },
   "outputs": [],
   "source": [
    "# 0.5đ \n",
    "def has_converged(centers, new_centers):\n",
    "    # return True if two sets of centers are the same\n",
    "\n",
    "    # YOUR CODE HERE\n",
    "    raise NotImplementedError()"
   ]
  },
  {
   "cell_type": "code",
   "execution_count": null,
   "id": "NlmJn2FQPwSZ",
   "metadata": {
    "deletable": false,
    "id": "NlmJn2FQPwSZ",
    "nbgrader": {
     "cell_type": "code",
     "checksum": "2e9c1924da30efe0c821b2f1a800834d",
     "grade": false,
     "grade_id": "cell-c210d26f0bf63b15",
     "locked": false,
     "schema_version": 3,
     "solution": true,
     "task": false
    }
   },
   "outputs": [],
   "source": [
    "# 1đ \n",
    "def kmeans(X, K):\n",
    "    # save the center coordinates of each iteration\n",
    "    centers = [kmeans_init_centers(X, K)]  \n",
    "    # save the labels of each iteration\n",
    "    labels = []\n",
    "    it = 0 \n",
    "    while True:\n",
    "        # at each iteration:\n",
    "        # 1. assign label for each points and append to labels\n",
    "        # 2. update the centers\n",
    "        # 3. check the convergence condition\n",
    "        #    and append NEW center coordinates to centers\n",
    "        # 4. update iteration \n",
    "\n",
    "        # YOUR CODE HERE\n",
    "        raise NotImplementedError()\n",
    "    \n",
    "    return (centers, labels, it)"
   ]
  },
  {
   "cell_type": "code",
   "execution_count": null,
   "id": "d2qfbn_QP72d",
   "metadata": {
    "id": "d2qfbn_QP72d"
   },
   "outputs": [],
   "source": [
    "(centers, labels, it) = kmeans(X, K)\n",
    "print('Centers found by k-means algorithm:')\n",
    "print(centers[-1])\n",
    "print('='*60)\n",
    "\n",
    "kmeans_display(X, labels[-1])"
   ]
  },
  {
   "cell_type": "markdown",
   "id": "qQMU2Nj6eMNT",
   "metadata": {
    "id": "qQMU2Nj6eMNT"
   },
   "source": [
    "### Trả lời câu hỏi (1đ)"
   ]
  },
  {
   "cell_type": "markdown",
   "id": "0oYbcHN6dAAX",
   "metadata": {
    "id": "0oYbcHN6dAAX"
   },
   "source": [
    "**Câu hỏi 2**: Bạn có nhận xét gì về kết quả của thuật toán k-means clustering với dữ liệu trên? (0.25đ)\n",
    "\n",
    "---\n",
    "\n",
    "*Your answer here*"
   ]
  },
  {
   "cell_type": "markdown",
   "id": "OwSHYivrejqr",
   "metadata": {
    "id": "OwSHYivrejqr"
   },
   "source": [
    "**Câu hỏi 3**: Hãy nêu điểm yếu của thuật toán k-means clustering (thuật toán có dễ bị ảnh hưởng bởi các center khởi tạo? phù hợp và không phù hợp với loại dữ liệu nào?). Bạn hãy nêu phương pháp/thuật toán thay thế có thể giải quyết các điểm yếu của thuật toán k-means clustering. (0.75đ)\n",
    "\n",
    "---\n",
    "\n",
    "*Your answer here*"
   ]
  }
 ],
 "metadata": {
  "colab": {
   "collapsed_sections": [],
   "name": "[Lab 03 - Data Mining] Classification & Clustering.ipynb",
   "provenance": [
    {
     "file_id": "1J1x4qE_dUH8LgPg7gLEh8H23DYDzNCki",
     "timestamp": 1639879447273
    }
   ]
  },
  "kernelspec": {
   "display_name": "Python 3 (ipykernel)",
   "language": "python",
   "name": "python3"
  },
  "language_info": {
   "codemirror_mode": {
    "name": "ipython",
    "version": 3
   },
   "file_extension": ".py",
   "mimetype": "text/x-python",
   "name": "python",
   "nbconvert_exporter": "python",
   "pygments_lexer": "ipython3",
   "version": "3.10.8"
  }
 },
 "nbformat": 4,
 "nbformat_minor": 5
}
